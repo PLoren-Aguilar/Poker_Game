{
 "cells": [
  {
   "cell_type": "markdown",
   "metadata": {},
   "source": [
    "<h2> Poker Texas Hold'em Game </h2>\n",
    "<h3> Author: Pablo Loren-Aguilar </h3>"
   ]
  },
  {
   "cell_type": "code",
   "execution_count": 1,
   "metadata": {},
   "outputs": [
    {
     "name": "stdout",
     "output_type": "stream",
     "text": [
      "pygame 1.9.6\n",
      "Hello from the pygame community. https://www.pygame.org/contribute.html\n",
      "\n",
      "Name of player\n",
      "A\n",
      "\n",
      "Name of player\n",
      "B\n",
      "\n",
      "Name of player\n",
      "C\n",
      "\n",
      "Name of player\n",
      "D\n"
     ]
    },
    {
     "ename": "SystemExit",
     "evalue": "",
     "output_type": "error",
     "traceback": [
      "An exception has occurred, use %tb to see the full traceback.\n",
      "\u001b[1;31mSystemExit\u001b[0m\n"
     ]
    },
    {
     "name": "stderr",
     "output_type": "stream",
     "text": [
      "C:\\ProgramData\\Anaconda3\\lib\\site-packages\\IPython\\core\\interactiveshell.py:3334: UserWarning: To exit: use 'exit', 'quit', or Ctrl-D.\n",
      "  warn(\"To exit: use 'exit', 'quit', or Ctrl-D.\", stacklevel=1)\n"
     ]
    }
   ],
   "source": [
    "import pygame\n",
    "import sys\n",
    "import random as rnd\n",
    "import include.deck   as deck\n",
    "import include.player as player\n",
    "import include.table  as table\n",
    "\n",
    "pygame.init()\n",
    "        \n",
    "#Create game window and title\n",
    "surface = pygame.display.set_mode((1200, 1200)) \n",
    "pygame.display.set_caption(\"Texas Hold'em\")\n",
    "\n",
    "#Prepare the table and sit the players\n",
    "players  = []\n",
    "croupier = table.newtable(players,4)\n",
    "croupier.set_table(4,surface)\n",
    "\n",
    "#Write some text    \n",
    "font = pygame.font.SysFont('Tahoma', 60, True, False)\n",
    "text = font.render('Welcome to Exeter Casino !', True, (0, 0, 0))\n",
    "surface.blit(text, (200,100))\n",
    "\n",
    "game_running = True\n",
    "while game_running:\n",
    "    #Loop through active events\n",
    "    for event in pygame.event.get():\n",
    "        if event.type == pygame.KEYDOWN:\n",
    "            if event.key == pygame.K_x:\n",
    "                pygame.quit(); sys.exit()\n",
    "            if event.key == pygame.K_c:\n",
    "                card1 = pygame.image.load(\"Images/cards/ace_of_diamonds.png\")\n",
    "                surface.blit(card1, (400,800))\n",
    "                card2 = pygame.image.load(\"Images/cards/king_of_spades.png\")\n",
    "                surface.blit(card2, (440,800))\n",
    "            if event.key == pygame.K_n:\n",
    "                common1 = pygame.image.load(\"Images/cards/ace_of_diamonds.png\")\n",
    "                surface.blit(common1, (395,530))\n",
    "                common2 = pygame.image.load(\"Images/cards/3_of_spades.png\")\n",
    "                surface.blit(common2, (480,530))\n",
    "                common3 = pygame.image.load(\"Images/cards/jack_of_clubs.png\")\n",
    "                surface.blit(common3, (565,530))\n",
    "            if event.key == pygame.K_e:\n",
    "                game_running = False\n",
    "        pygame.display.update()\n",
    "        \n",
    "surface = pygame.display.set_mode((1200, 1200)) \n",
    "croupier.set_table(3,surface)\n",
    "\n",
    "#Write some text    \n",
    "font = pygame.font.SysFont('Tahoma', 60, True, False)\n",
    "text = font.render('Now down to three players!', True, (0, 0, 0))\n",
    "surface.blit(text, (200,100))\n",
    "    \n",
    "game_running = True\n",
    "while game_running:\n",
    "    #Loop through active events\n",
    "    for event in pygame.event.get():\n",
    "        if event.type == pygame.KEYDOWN:\n",
    "            if event.key == pygame.K_x:\n",
    "                pygame.quit(); sys.exit()\n",
    "            if event.key == pygame.K_c:\n",
    "                card1 = pygame.image.load(\"Images/cards/ace_of_diamonds.png\")\n",
    "                surface.blit(card1, (400,800))\n",
    "                card2 = pygame.image.load(\"Images/cards/king_of_spades.png\")\n",
    "                surface.blit(card2, (440,800))\n",
    "            if event.key == pygame.K_n:\n",
    "                common1 = pygame.image.load(\"Images/cards/ace_of_diamonds.png\")\n",
    "                surface.blit(common1, (395,530))\n",
    "                common2 = pygame.image.load(\"Images/cards/3_of_spades.png\")\n",
    "                surface.blit(common2, (480,530))\n",
    "                common3 = pygame.image.load(\"Images/cards/jack_of_clubs.png\")\n",
    "                surface.blit(common3, (565,530))\n",
    "            if event.key == pygame.K_e:\n",
    "                game_running = False\n",
    "        pygame.display.update()\n",
    "\n",
    "pygame.quit()\n",
    "sys.exit()"
   ]
  },
  {
   "cell_type": "code",
   "execution_count": 2,
   "metadata": {},
   "outputs": [
    {
     "ename": "NameError",
     "evalue": "name 'C' is not defined",
     "output_type": "error",
     "traceback": [
      "\u001b[1;31m---------------------------------------------------------------------------\u001b[0m",
      "\u001b[1;31mNameError\u001b[0m                                 Traceback (most recent call last)",
      "\u001b[1;32m<ipython-input-2-6fa8c5733662>\u001b[0m in \u001b[0;36m<module>\u001b[1;34m\u001b[0m\n\u001b[1;32m----> 1\u001b[1;33m \u001b[0mC\u001b[0m\u001b[1;33m\u001b[0m\u001b[1;33m\u001b[0m\u001b[0m\n\u001b[0m",
      "\u001b[1;31mNameError\u001b[0m: name 'C' is not defined"
     ]
    }
   ],
   "source": [
    "C"
   ]
  },
  {
   "cell_type": "code",
   "execution_count": null,
   "metadata": {},
   "outputs": [],
   "source": []
  }
 ],
 "metadata": {
  "kernelspec": {
   "display_name": "Python 3",
   "language": "python",
   "name": "python3"
  },
  "language_info": {
   "codemirror_mode": {
    "name": "ipython",
    "version": 3
   },
   "file_extension": ".py",
   "mimetype": "text/x-python",
   "name": "python",
   "nbconvert_exporter": "python",
   "pygments_lexer": "ipython3",
   "version": "3.7.4"
  }
 },
 "nbformat": 4,
 "nbformat_minor": 2
}
