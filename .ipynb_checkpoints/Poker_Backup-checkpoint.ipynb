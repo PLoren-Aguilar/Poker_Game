{
 "cells": [
  {
   "cell_type": "markdown",
   "metadata": {},
   "source": [
    "<h2> Poker Texas Hold'em Game </h2>\n",
    "<h3> Author: Pablo Loren-Aguilar </h3>"
   ]
  },
  {
   "cell_type": "code",
   "execution_count": null,
   "metadata": {},
   "outputs": [],
   "source": [
    "def set_difficulty(value, difficulty):\n",
    "    # Do the job here!\"\n",
    "    pass\n",
    "\n",
    "def start_the_game():\n",
    "    # Do the job here \"\n",
    "    pass"
   ]
  },
  {
   "cell_type": "code",
   "execution_count": 20,
   "metadata": {},
   "outputs": [],
   "source": [
    "def menu():\n",
    "    import pygame\n",
    "    import pygame_menu\n",
    "    \n",
    "    pygame.init()\n",
    "    surface = pygame.display.set_mode((800, 800)) \n",
    "    \n",
    "    menu = pygame_menu.Menu(800, 800, 'By Pablo Loren-Aguilar', theme=pygame_menu.themes.THEME_BLUE)\n",
    "    menu.add_image('Images/menu.jpg',scale=(1,1))\n",
    "    menu.add_text_input('Name :', default='John Doe')\n",
    "    menu.add_selector('Difficulty :', [('Hard', 1), ('Easy', 2)], onchange=set_difficulty)\n",
    "    menu.add_button('Play', start_the_game)\n",
    "    menu.add_button('Quit', pygame_menu.events.EXIT)\n",
    "    menu.mainloop(surface)"
   ]
  },
  {
   "cell_type": "code",
   "execution_count": 21,
   "metadata": {},
   "outputs": [
    {
     "ename": "SystemExit",
     "evalue": "",
     "output_type": "error",
     "traceback": [
      "An exception has occurred, use %tb to see the full traceback.\n",
      "\u001b[1;31mSystemExit\u001b[0m\n"
     ]
    }
   ],
   "source": [
    "menu()"
   ]
  },
  {
   "cell_type": "code",
   "execution_count": null,
   "metadata": {},
   "outputs": [],
   "source": []
  }
 ],
 "metadata": {
  "kernelspec": {
   "display_name": "Python 3",
   "language": "python",
   "name": "python3"
  },
  "language_info": {
   "codemirror_mode": {
    "name": "ipython",
    "version": 3
   },
   "file_extension": ".py",
   "mimetype": "text/x-python",
   "name": "python",
   "nbconvert_exporter": "python",
   "pygments_lexer": "ipython3",
   "version": "3.7.4"
  }
 },
 "nbformat": 4,
 "nbformat_minor": 2
}
